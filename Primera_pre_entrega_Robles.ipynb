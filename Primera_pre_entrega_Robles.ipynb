{
  "nbformat": 4,
  "nbformat_minor": 0,
  "metadata": {
    "colab": {
      "provenance": []
    },
    "kernelspec": {
      "name": "python3",
      "display_name": "Python 3"
    },
    "language_info": {
      "name": "python"
    }
  },
  "cells": [
    {
      "cell_type": "code",
      "execution_count": null,
      "metadata": {
        "colab": {
          "base_uri": "https://localhost:8080/"
        },
        "id": "OfYTVxUWigNE",
        "outputId": "eb14b198-c40b-42ca-d0f5-1b87eb899313"
      },
      "outputs": [
        {
          "output_type": "stream",
          "name": "stdout",
          "text": [
            "Mounted at /drive/\n"
          ]
        }
      ],
      "source": [
        "from google.colab import drive\n",
        "drive.mount('/drive/')"
      ]
    },
    {
      "cell_type": "code",
      "source": [
        "ruta = '/drive/MyDrive/Colab Notebooks'"
      ],
      "metadata": {
        "id": "rBEOhBoMuupv"
      },
      "execution_count": null,
      "outputs": []
    },
    {
      "cell_type": "code",
      "source": [
        "datos = {}"
      ],
      "metadata": {
        "id": "xVlvK_o7n9Db"
      },
      "execution_count": null,
      "outputs": []
    },
    {
      "cell_type": "code",
      "source": [
        "def registro():\n",
        "  usuario = input(\"Ingrese su nombre de usuario: \")\n",
        "  if usuario not in datos:\n",
        "    contra = input(\"Ingrese su contraseña: \")\n",
        "    datos[usuario] = contra\n",
        "    print(\"Se lo ha registrado correctamente \")\n",
        "  else:\n",
        "    print(\"Ya hay una cuenta con ese nombre de usuario\")\n",
        "\n",
        "  "
      ],
      "metadata": {
        "id": "721Pof1WoCco"
      },
      "execution_count": null,
      "outputs": []
    },
    {
      "cell_type": "code",
      "source": [
        "def mostrar():\n",
        "  for llave in datos:\n",
        "    print (f\"{llave} {datos[llave]}\")"
      ],
      "metadata": {
        "id": "MBpyYlEHoCrV"
      },
      "execution_count": null,
      "outputs": []
    },
    {
      "cell_type": "code",
      "source": [
        "def inicio_sesion():\n",
        "  usuario = input(\"Ingrese su nombre de usuario: \")\n",
        "  if usuario not in datos:\n",
        "    print (\"Ese usuario no existe \")\n",
        "  else:\n",
        "    contra = input(\"Ingrese su contraseña: \")\n",
        "    if contra != datos[usuario]:\n",
        "      print (\"Esa contraseña es incorrecta \")\n",
        "    else:\n",
        "      print (f\"Bienvenido a su cuenta {usuario}\")\n"
      ],
      "metadata": {
        "id": "i3rySYGhq3MX"
      },
      "execution_count": null,
      "outputs": []
    },
    {
      "cell_type": "code",
      "source": [
        "def archivar():\n",
        "  arc = open(ruta + \"/archivo_Pre-entrega1.txt\", \"w\")\n",
        "  for llave in datos:\n",
        "    arc.write(llave + \", \" + str(datos[llave]) + '\\n')\n",
        "  arc.close()"
      ],
      "metadata": {
        "id": "hKZCSLxhtwNa"
      },
      "execution_count": null,
      "outputs": []
    },
    {
      "cell_type": "code",
      "source": [
        "opc = 0\n",
        "while opc != 5:\n",
        "  print(\"1. Para registrarse\")\n",
        "  print(\"2. Para mostrar los registrados\")\n",
        "  print(\"3. Para iniciar sesion\")\n",
        "  print(\"4. Para archivar los registros\")\n",
        "  print(\"5. Para salir\")\n",
        "  opc = int(input(\"Ingrese una opcion: \"))\n",
        "  if opc == 1:\n",
        "    registro()\n",
        "  elif opc == 2:\n",
        "    mostrar()\n",
        "  elif opc == 3:\n",
        "    inicio_sesion()\n",
        "  elif opc == 4:\n",
        "    archivar()\n",
        "print(\"FIN DEL PROGRAMA\")"
      ],
      "metadata": {
        "colab": {
          "base_uri": "https://localhost:8080/"
        },
        "id": "vzFHEnCXxvx5",
        "outputId": "d29411f4-8967-46e6-d51a-abf6f3d9dbe4"
      },
      "execution_count": null,
      "outputs": [
        {
          "output_type": "stream",
          "name": "stdout",
          "text": [
            "1. Para registrarse\n",
            "2. Para mostrar los registrados\n",
            "3. Para iniciar sesion\n",
            "4. Para archivar los registros\n",
            "5. Para salir\n",
            "Ingrese una opcion: 1\n",
            "Ingrese su nombre de usuario: benjamin\n",
            "Ingrese su contraseña: 123\n",
            "Se lo ha registrado correctamente \n",
            "1. Para registrarse\n",
            "2. Para mostrar los registrados\n",
            "3. Para iniciar sesion\n",
            "4. Para archivar los registros\n",
            "5. Para salir\n",
            "Ingrese una opcion: 1\n",
            "Ingrese su nombre de usuario: valentin\n",
            "Ingrese su contraseña: 456\n",
            "Se lo ha registrado correctamente \n",
            "1. Para registrarse\n",
            "2. Para mostrar los registrados\n",
            "3. Para iniciar sesion\n",
            "4. Para archivar los registros\n",
            "5. Para salir\n",
            "Ingrese una opcion: 2\n",
            "benjamin 123\n",
            "valentin 456\n",
            "1. Para registrarse\n",
            "2. Para mostrar los registrados\n",
            "3. Para iniciar sesion\n",
            "4. Para archivar los registros\n",
            "5. Para salir\n",
            "Ingrese una opcion: 3\n",
            "Ingrese su nombre de usuario: benjamin\n",
            "Ingrese su contraseña: 123\n",
            "Bienvenido a su cuenta <built-in method capitalize of str object at 0x7fd012b9c430>\n",
            "1. Para registrarse\n",
            "2. Para mostrar los registrados\n",
            "3. Para iniciar sesion\n",
            "4. Para archivar los registros\n",
            "5. Para salir\n",
            "Ingrese una opcion: 4\n",
            "1. Para registrarse\n",
            "2. Para mostrar los registrados\n",
            "3. Para iniciar sesion\n",
            "4. Para archivar los registros\n",
            "5. Para salir\n",
            "Ingrese una opcion: 5\n",
            "FIN DEL PROGRAMA\n"
          ]
        }
      ]
    }
  ]
}